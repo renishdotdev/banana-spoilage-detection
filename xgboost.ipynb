{
 "cells": [
  {
   "cell_type": "code",
   "execution_count": 1,
   "id": "180560e9-7b50-4221-b86b-94268debef56",
   "metadata": {},
   "outputs": [],
   "source": [
    "import os, joblib, pandas as pd, numpy as np\n",
    "import xgboost as xgb\n",
    "import seaborn as sns, matplotlib.pyplot as plt\n",
    "from sklearn.metrics import classification_report, confusion_matrix, f1_score\n",
    "\n",
    "DATA_DIR = os.path.join('.', 'dataset')"
   ]
  },
  {
   "cell_type": "code",
   "execution_count": 2,
   "id": "f1516c0f-ca06-4685-ab8f-a80ee00f7526",
   "metadata": {
    "scrolled": true
   },
   "outputs": [
    {
     "name": "stdout",
     "output_type": "stream",
     "text": [
      "Train shape: (18819, 18)   Val shape: (8066, 18)\n"
     ]
    }
   ],
   "source": [
    "X_train = pd.read_csv(f'{DATA_DIR}/X_train_pre.csv', index_col=0)\n",
    "y_train = pd.read_csv(f'{DATA_DIR}/y_train_pre.csv', index_col=0)['label']\n",
    "\n",
    "X_val   = pd.read_csv(f'{DATA_DIR}/X_test_pre.csv',  index_col=0)\n",
    "y_val   = pd.read_csv(f'{DATA_DIR}/y_test_pre.csv',  index_col=0)['label']\n",
    "\n",
    "print('Train shape:', X_train.shape, '  Val shape:', X_val.shape)"
   ]
  },
  {
   "cell_type": "code",
   "execution_count": 3,
   "id": "5b6b06ec-9279-4946-a209-84cc2174884d",
   "metadata": {},
   "outputs": [],
   "source": [
    "# Convert class name 1-5 to 0-4 which is required by XGBoost\n",
    "\n",
    "y_tr_xgb = (y_train - 1).astype(int)\n",
    "y_val_xgb = (y_val   - 1).astype(int)\n",
    "\n",
    "dtrain = xgb.DMatrix(X_train, label=y_tr_xgb)\n",
    "dval   = xgb.DMatrix(X_val,   label=y_val_xgb)"
   ]
  },
  {
   "cell_type": "code",
   "execution_count": 4,
   "id": "84dcb4f4-cf1b-4439-af85-fc27a6c2e7bb",
   "metadata": {},
   "outputs": [
    {
     "name": "stdout",
     "output_type": "stream",
     "text": [
      "[0]\ttrain-mlogloss:1.49603\tval-mlogloss:1.49646\n",
      "[50]\ttrain-mlogloss:0.13976\tval-mlogloss:0.14585\n",
      "[100]\ttrain-mlogloss:0.02683\tval-mlogloss:0.03314\n",
      "[150]\ttrain-mlogloss:0.00858\tval-mlogloss:0.01448\n",
      "[200]\ttrain-mlogloss:0.00383\tval-mlogloss:0.00990\n",
      "[250]\ttrain-mlogloss:0.00213\tval-mlogloss:0.00849\n",
      "[300]\ttrain-mlogloss:0.00142\tval-mlogloss:0.00785\n",
      "[350]\ttrain-mlogloss:0.00106\tval-mlogloss:0.00755\n",
      "[400]\ttrain-mlogloss:0.00086\tval-mlogloss:0.00741\n",
      "[450]\ttrain-mlogloss:0.00073\tval-mlogloss:0.00733\n",
      "[500]\ttrain-mlogloss:0.00065\tval-mlogloss:0.00729\n",
      "[550]\ttrain-mlogloss:0.00059\tval-mlogloss:0.00723\n",
      "[600]\ttrain-mlogloss:0.00054\tval-mlogloss:0.00720\n",
      "[650]\ttrain-mlogloss:0.00051\tval-mlogloss:0.00714\n",
      "[700]\ttrain-mlogloss:0.00048\tval-mlogloss:0.00713\n",
      "[750]\ttrain-mlogloss:0.00045\tval-mlogloss:0.00712\n",
      "[800]\ttrain-mlogloss:0.00043\tval-mlogloss:0.00708\n",
      "[850]\ttrain-mlogloss:0.00041\tval-mlogloss:0.00704\n",
      "[900]\ttrain-mlogloss:0.00040\tval-mlogloss:0.00704\n",
      "[906]\ttrain-mlogloss:0.00040\tval-mlogloss:0.00705\n",
      "Best iteration: 856\n"
     ]
    }
   ],
   "source": [
    "params = {\n",
    "    'objective':        'multi:softprob',\n",
    "    'num_class':        5,\n",
    "    'eval_metric':      'mlogloss',\n",
    "    'eta':              0.05,\n",
    "    'max_depth':        6,\n",
    "    'subsample':        0.9,\n",
    "    'colsample_bytree': 0.8,\n",
    "    'seed':             42\n",
    "}\n",
    "\n",
    "model = xgb.train(\n",
    "    params, dtrain,\n",
    "    num_boost_round=1000,\n",
    "    evals=[(dtrain, 'train'), (dval, 'val')],\n",
    "    early_stopping_rounds=50,\n",
    "    verbose_eval=50\n",
    ")\n",
    "\n",
    "print('Best iteration:', model.best_iteration)\n"
   ]
  },
  {
   "cell_type": "code",
   "execution_count": 5,
   "id": "0a1b1080-5be2-4926-9b00-b047f8b20c6d",
   "metadata": {},
   "outputs": [
    {
     "name": "stdout",
     "output_type": "stream",
     "text": [
      "Weighted-F1: 0.998140148844453\n",
      "              precision    recall  f1-score   support\n",
      "\n",
      "           1       1.00      1.00      1.00      1613\n",
      "           2       1.00      1.00      1.00      1613\n",
      "           3       1.00      1.00      1.00      1613\n",
      "           4       1.00      1.00      1.00      1613\n",
      "           5       1.00      1.00      1.00      1614\n",
      "\n",
      "    accuracy                           1.00      8066\n",
      "   macro avg       1.00      1.00      1.00      8066\n",
      "weighted avg       1.00      1.00      1.00      8066\n",
      "\n"
     ]
    },
    {
     "data": {
      "image/png": "[encoded data removed]",
      "text/plain": [
       "<Figure size 640x480 with 2 Axes>"
      ]
     },
     "metadata": {},
     "output_type": "display_data"
    }
   ],
   "source": [
    "y_pred = np.argmax(model.predict(dval), axis=1) + 1   # back to 1-5\n",
    "print('Weighted-F1:', f1_score(y_val, y_pred, average='weighted'))\n",
    "print(classification_report(y_val, y_pred))\n",
    "\n",
    "cm = confusion_matrix(y_val, y_pred, labels=[1,2,3,4,5])\n",
    "sns.heatmap(cm, annot=True, fmt='d', cmap='Blues',\n",
    "            xticklabels=[1,2,3,4,5], yticklabels=[1,2,3,4,5])\n",
    "plt.xlabel('Predicted'); plt.ylabel('True'); plt.title('Validation confusion'); plt.show()\n"
   ]
  },
  {
   "cell_type": "code",
   "execution_count": 6,
   "id": "e3af0995-e572-42df-b2f2-2445bcc5fc22",
   "metadata": {},
   "outputs": [
    {
     "name": "stdout",
     "output_type": "stream",
     "text": [
      "Model saved → .\\dataset/../xgb_ripeness_stage5.pkl\n",
      "Feature list saved → model_features.txt\n"
     ]
    }
   ],
   "source": [
    "MODEL_PATH = f'{DATA_DIR}/../xgb_ripeness_stage5.pkl'\n",
    "joblib.dump(model, MODEL_PATH)\n",
    "\n",
    "with open(f'{DATA_DIR}/../model_features.txt', 'w') as f:\n",
    "    for col in X_train.columns: f.write(col + '\\n')\n",
    "\n",
    "print('Model saved →', MODEL_PATH)\n",
    "print('Feature list saved → model_features.txt')"
   ]
  },
  {
   "cell_type": "code",
   "execution_count": null,
   "id": "9d7132ef-ad56-4b40-b1d3-d16cc41bb926",
   "metadata": {},
   "outputs": [],
   "source": []
  }
 ],
 "metadata": {
  "kernelspec": {
   "display_name": "Python 3 (ipykernel)",
   "language": "python",
   "name": "python3"
  },
  "language_info": {
   "codemirror_mode": {
    "name": "ipython",
    "version": 3
   },
   "file_extension": ".py",
   "mimetype": "text/x-python",
   "name": "python",
   "nbconvert_exporter": "python",
   "pygments_lexer": "ipython3",
   "version": "3.12.10"
  }
 },
 "nbformat": 4,
 "nbformat_minor": 5
}
